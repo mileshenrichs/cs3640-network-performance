{
 "cells": [
  {
   "cell_type": "markdown",
   "metadata": {},
   "source": [
    "<center>\n",
    "    \n",
    "#  CS 3640: Introduction to Networks and Their Applications [Spring 2020] \n",
    "\n",
    "<center> Instructor: Rishab Nithyanand | Office hours: Tuesday 3-4 pm or by appointment \n",
    "    \n",
    "<center> Teaching assistant: Daniyal Dar | Office hours: Monday 11 am - 1:30 pm \n",
    "\n",
    "---\n",
    "\n",
    "##  Assignment 2: Measuring network performance and understanding link layer routing\n",
    "\n",
    "<center> Released on: March 3rd, 2020 | Due by: March 24th, 2020 (11:59:59 pm)\n",
    "    \n",
    "<center> Maximum score: 100 | Value towards final grade: 15% \n",
    " \n",
    "\n",
    "----"
   ]
  },
  {
   "cell_type": "markdown",
   "metadata": {},
   "source": [
    "### I. Groups\n",
    "\n",
    "As stated in class, on the website, and on ICON, this assignment will be done in groups of 4 or 5. Here are the groups for this assignment.\n",
    "\n",
    "\n",
    "| Group ID        | Hawk IDs of group members  |\n",
    "| ------------- |:-------------:|\n",
    "1 \t|[rgupta3,gkanakares, ctalburt, ywang551]\n",
    "2 \t|[dedelzell, kuanjiang, danstout, jawade]\n",
    "3 \t|[mmcg, cmstoddard, aswiston, xiayu]\n",
    "4 \t|[gollapud, azhenderson, musgrove, psmietana]\n",
    "5 \t|[eaespinoza, trjns, jakozak, gli11]\n",
    "6 \t|[ebanes, jmchristensen, mkaluzny, mltheis]\n",
    "7 \t|[jalmanza, cmuehring, suarezbeltran, jyang60]\n",
    "8 \t|[mbilenko, ymdong, bliu26, jdswan]\n",
    "9 \t|[aantuna, kmencarnacao, ebfilfilu, mzhu11]\n",
    "10 \t|[kengraham, jli157, yuanzhli, willscott]\n",
    "11 \t|[bcalston, mhenrichs, eaprce, mtsickels]\n",
    "12 \t|[adahal, hancck, shuangfshao, dsriram]\n",
    "13 \t|[guangdai, aphan, bincwang, davwang]\n",
    "\n",
    "\n",
    "##### Getting in touch with your team\n",
    "\n",
    "Use the HawkIDs listed to email your team-mates or make a post on ICON. If you're unable to get in touch with any member of your team, let me know ASAP!\n",
    "\n",
    "##### Congeniality and healthy collaboration\n",
    "\n",
    "I will take complaints of discrimination and harassment extremely seriously and these will be reported to the appropriate authorities. You are expected to treat your classmates with respect and kindness. \n",
    "\n",
    "\n",
    "---\n",
    "\n",
    "### II. Submission\n",
    "\n",
    "Each group is to submit this notebook after filling in the blank cells as instructed. The submissions are due on ICON at 23:59:59 on March 24th, 2020. The last submission submitted by a team member before midnight on the due date will be the one graded unless **ALL** team members let the TA and me know that they want another submission to be graded (the late penalty if a submission made past the due date is chosen). \n",
    "\n",
    "##### Late submissions\n",
    "I am being generous in the amount of time allotted to this assignment to account for difficulties in scheduling meetings, etc. There will be no extensions of the due date under any circumstances. If a submission is received past the due date, the late policy detailed on the course webpage will apply.\n",
    "\n",
    "##### Team-mate feedback\n",
    "**Each team member may also send me an email (rishab-nithyanand@uiowa.edu) with subject \"Feedback: Assignment 2, Group N\" detailing their experience working with each of their team-mates. For each team member, tell me at least one good thing and one thing they could improve. These will be anonymized and released to each individual at the end of the term. It's important to know how to work well in a team and early feedback before you move on to bigger and better things is always helpful. Sending feedback for all 4 assignments will fetch you a 4% bonus at the end of the term. Note: Sending with an incorrect subject line means that the email will not get forwarded to the right inbox.**\n",
    "\n",
    "---\n",
    "\n",
    "### III. Learning goals\n",
    "\n",
    "My goal is to give you assignments that will help you build a nice *starter pack* of computer networking skills that will help you get a better picture of how the Internet works in addition to helping you in the real-world. \n",
    "\n",
    "In this assignment you will use Scapy and mininet. These are tools that you will almost certainly need to use if you have a networking-related job in the future. I expect that by the end of this assignment, you should be able to:\n",
    "- Emulate networks using Mininet (Task 1)\n",
    "- Understand how link layer characteristics impact local network performance. (Task 2)\n",
    "- Understand how to run programs in an emulated network. (Task 3)\n",
    "- Understand simple analyses of queueing delays. (Task 4)\n",
    "---\n",
    "\n"
   ]
  },
  {
   "cell_type": "markdown",
   "metadata": {},
   "source": [
    "### IV. Team Information\n",
    "\n",
    "Fill in your team information in this cell.\n",
    "\n",
    "**Group ID:** 11\n",
    "\n",
    "**Group members:** Ben Alston, Miles Henrichs, Evan Price, Matt Sickels\n",
    "\n",
    "---"
   ]
  },
  {
   "cell_type": "markdown",
   "metadata": {},
   "source": [
    "### V. Task 1: Emulating networks with Mininet [30 points]\n",
    "\n",
    "\n",
    "In this task you will learn how to create a virtual network with Mininet. We will focus on creating LANs. By the end of this task you will know how to create hosts, switches, and links with different link layer characteristics (e.g., transmission rates, propagation delays, queue sizes, etc.). Knowing how to do these things will help you if you ever need to design a new network and test bottlenecks before you invest in actual hardware. Tools like Mininet are used in research and industry A LOT! Networks are expensive to experiment on and tools like Mininet and Scapy allow you to run really complex experiments on emulated networks for free (and on your laptop)!\n",
    "\n",
    "It may be a bit challenging to understand at first, but keep playing around with it and it'll get less intimidating. If you find yourself stuck, reach out to me or drop in during office hours.\n",
    "\n",
    "You can find the Mininet API here: http://mininet.org/api/annotated.html\n",
    "\n",
    "You can find examples of Mininet here: https://github.com/mininet/mininet/tree/master/examples\n",
    "\n",
    "You can find tons of other useful information about Mininet and how it works here: https://github.com/mininet/mininet/wiki/FAQ, http://mininet.org/walkthrough/\n",
    "\n",
    "You are allowed to borrow code as long as you can convince me that you understand what it is doing and you cite it in the credit reel.\n",
    "\n",
    "If you run across problems, use the `setLogLevel('debug')` instruction to help you figure out what is going on in the Mininet internals.\n",
    "\n",
    "---\n",
    "\n",
    "These are all the functions that should be sufficient for you to create a simple network using mininet. You do not have to use just these. If you do use other functions, do all the imports in this cell. You may not use networking functions not provided by mininet or scapy."
   ]
  },
  {
   "cell_type": "code",
   "execution_count": 1,
   "metadata": {},
   "outputs": [],
   "source": [
    "from mininet.topo import Topo\n",
    "from mininet.net import Mininet\n",
    "from mininet.node import OVSKernelSwitch, Switch, Controller\n",
    "from mininet.link import TCLink\n",
    "from mininet.log import setLogLevel\n",
    "\n",
    "#setLogLevel('debug')"
   ]
  },
  {
   "cell_type": "markdown",
   "metadata": {},
   "source": [
    "\n",
    "---\n",
    "\n",
    "**[10 points] Step 1:** Creating a network topology with mininet. \n",
    "\n",
    "You will start by writing a function to create a network topology with Mininet. The specifications of the function are below:\n",
    "\n",
    "*Name*: `create_new_topology`\n",
    "\n",
    "*Input parameters*: `topology_vector`: A list of integers.\n",
    "\n",
    "*Returns*: A Mininet `Topo` object.\n",
    "\n",
    "*Function logic*: The ``Topo`` object should be constructed as follows:\n",
    "- there are ``n`` switches (``s[0]``, ..., ``s[n-1]``), where ``n`` is the length of ``topology_vector``.\n",
    "- the $i^{th}$ switch ``s[i-1]`` is connected to ``topology_vector[i-1]`` end-hosts (``h[i-1][0]``, ..., ``h[i-1][topology[i-1]-1]``).\n",
    "\n",
    "*Resources*: You can read about the `Topo` class and its methods here: http://mininet.org/api/classmininet_1_1topo_1_1Topo.html\n",
    "\n",
    "*Example*: If ``topology_vector = [2, 1]``, then your function should do the following:\n",
    "- add two switches ``s0`` and ``s1`` to the ``Topo`` object. Connect these two to each other.\n",
    "- add two hosts ``h00`` and ``h01`` to the ``Topo`` object. Both of these are connected to ``s0``.\n",
    "- add one host ``h10`` to the ``Topo`` object. This host is connected to ``s1``.\n",
    "- return the ``Topo`` object.\n",
    "\n",
    "**Note:** Use the same naming convention shown in the above example and beware of accidental loops!\n",
    "\n",
    "To test your work, use the `test_topology_creation` function provided below. "
   ]
  },
  {
   "cell_type": "code",
   "execution_count": 2,
   "metadata": {},
   "outputs": [
    {
     "name": "stdout",
     "output_type": "stream",
     "text": [
      "Topology vector: [1, 2]\n",
      "Hosts created: ['h00', 'h10', 'h11']\n",
      "Switches created: ['s0', 's1']\n",
      "Links created: [('s0', 'h00'), ('s1', 'h10'), ('s1', 'h11'), ('s1', 's0')]\n",
      "Switch to switch link characteristics: \n",
      "s0,s1 {'node1': 's1', 'node2': 's0', 'port2': 1, 'port1': 1}\n",
      "Host to switch link characteristics: \n",
      "h00,s0 {'node1': 's0', 'node2': 'h00', 'port2': 0, 'port1': 2}\n",
      "h10,s1 {'node1': 's1', 'node2': 'h10', 'port2': 0, 'port1': 2}\n",
      "h11,s1 {'node1': 's1', 'node2': 'h11', 'port2': 0, 'port1': 3}\n",
      "Topology vector: [1, 2, 3]\n",
      "Hosts created: ['h00', 'h10', 'h11', 'h20', 'h21', 'h22']\n",
      "Switches created: ['s0', 's1', 's2']\n",
      "Links created: [('s0', 'h00'), ('s1', 'h10'), ('s1', 'h11'), ('s1', 's0'), ('s2', 'h20'), ('s2', 'h21'), ('s2', 'h22'), ('s2', 's1')]\n",
      "Switch to switch link characteristics: \n",
      "s0,s1 {'node1': 's1', 'node2': 's0', 'port2': 1, 'port1': 1}\n",
      "s1,s2 {'node1': 's2', 'node2': 's1', 'port2': 2, 'port1': 1}\n",
      "Host to switch link characteristics: \n",
      "h00,s0 {'node1': 's0', 'node2': 'h00', 'port2': 0, 'port1': 2}\n",
      "h10,s1 {'node1': 's1', 'node2': 'h10', 'port2': 0, 'port1': 3}\n",
      "h11,s1 {'node1': 's1', 'node2': 'h11', 'port2': 0, 'port1': 4}\n",
      "h20,s2 {'node1': 's2', 'node2': 'h20', 'port2': 0, 'port1': 2}\n",
      "h21,s2 {'node1': 's2', 'node2': 'h21', 'port2': 0, 'port1': 3}\n",
      "h22,s2 {'node1': 's2', 'node2': 'h22', 'port2': 0, 'port1': 4}\n"
     ]
    }
   ],
   "source": [
    "def create_new_topology(topology_vector):\n",
    "        topo = Topo()\n",
    "        num_switches = len(topology_vector)\n",
    "        switches = []\n",
    "        hosts = []\n",
    "\n",
    "        # Create switches\n",
    "        for s in range(num_switches):\n",
    "            switches.append(topo.addSwitch('s%s' % (s)))\n",
    "            \n",
    "        # Link adjacent switches\n",
    "        for s in range(1, num_switches):\n",
    "            topo.addLink(switches[s], switches[s - 1])\n",
    "\n",
    "        # Create hosts and link them to their parent switch\n",
    "        for s in range(num_switches):\n",
    "            for h in range(topology_vector[s]):\n",
    "                host = topo.addHost('h%s%s' % (s, h))\n",
    "                hosts.append(host)\n",
    "                topo.addLink(switches[s], host)\n",
    "                            \n",
    "        return topo\n",
    "\n",
    "def test_topology_creation():\n",
    "    for i in range(2,4):\n",
    "        topology_vector = [(j+1) for j in range(i)]\n",
    "        print(\"Topology vector: %s\" % ''.join(str(topology_vector)))\n",
    "        topology = create_new_topology(topology_vector)\n",
    "        print(\"Hosts created: %s\" % ''.join(str(topology.hosts(sort=True))))\n",
    "        print(\"Switches created: %s\" % ''.join(str(topology.switches(sort=True))))\n",
    "        print(\"Links created: %s\" % ''.join(str(topology.links(sort=True))))\n",
    "        print(\"Switch to switch link characteristics: \")\n",
    "        s2s_links = {}\n",
    "        for i in range(len(topology_vector)-1):\n",
    "            key = 's%d,s%d' % (i, i+1)\n",
    "            s2s_links[key] = topology.linkInfo('s%d' % i, 's%d' % (i+1))\n",
    "            print key, s2s_links[key]\n",
    "        print(\"Host to switch link characteristics: \")\n",
    "        h2s_links = {}\n",
    "        for i in range(len(topology_vector)):\n",
    "            for j in range(topology_vector[i]):\n",
    "                key = 'h%d%d,s%d' % (i, j, i)\n",
    "                h2s_links[key] = topology.linkInfo('h%d%d' % (i, j), 's%d' % (i))\n",
    "                print key, h2s_links[key]\n",
    "\n",
    "test_topology_creation()"
   ]
  },
  {
   "cell_type": "markdown",
   "metadata": {},
   "source": [
    "Great! You've managed to create a new network topology. Now you'll learn how to generate traffic within this network! \n",
    "\n",
    "---\n",
    "\n",
    "**[5 points] Step 2:** Starting and stopping emulation of a network\n",
    "\n",
    "You will now write a function which will take a topology vector and begin emulating it. Once the network emulation has begun, you will run a `ping` between all the hosts in the network. Finally you will stop the network emulation. Function specifications are below:\n",
    "\n",
    "*Name*: `test_pingall`\n",
    "\n",
    "*Input parameters*: `topology_vector`: A list of integers.\n",
    "\n",
    "*Returns*: `True`\n",
    "\n",
    "*Function logic*: Your function will need to first call the `create_new_topology` method to get a `Topo` object representing the input `topology_vector`. It will then need to initialize a `Mininet` object with that topology. Next, it will start emulation of the network and do pings between all pairs of hosts in the network. Finally, it will stop emulation of the network and return.\n",
    "\n",
    "*Resources*: You can read about the ``Mininet`` class and its member functions here: http://mininet.org/api/classmininet_1_1net_1_1Mininet.html\n",
    "\n",
    "**Note:** Make sure to stop the controller and switches using the ``stop()`` method. If you don't do this, there may be leftover emulated interfaces that can only be removed with a VM restart.\n"
   ]
  },
  {
   "cell_type": "code",
   "execution_count": 4,
   "metadata": {},
   "outputs": [
    {
     "name": "stdout",
     "output_type": "stream",
     "text": [
      "*** Removing excess controllers/ofprotocols/ofdatapaths/pings/noxes\n",
      "killall controller ofprotocol ofdatapath ping nox_corelt-nox_core ovs-openflowd ovs-controllerovs-testcontroller udpbwtest mnexec ivs ryu-manager 2> /dev/null\n",
      "killall -9 controller ofprotocol ofdatapath ping nox_corelt-nox_core ovs-openflowd ovs-controllerovs-testcontroller udpbwtest mnexec ivs ryu-manager 2> /dev/null\n",
      "pkill -9 -f \"sudo mnexec\"\n",
      "*** Removing junk from /tmp\n",
      "rm -f /tmp/vconn* /tmp/vlogs* /tmp/*.out /tmp/*.log\n",
      "*** Removing old X11 tunnels\n",
      "*** Removing excess kernel datapaths\n",
      "ps ax | egrep -o 'dp[0-9]+' | sed 's/dp/nl:/'\n",
      "***  Removing OVS datapaths\n",
      "ovs-vsctl --timeout=1 list-br\n",
      "ovs-vsctl --timeout=1 list-br\n",
      "*** Removing all links of the pattern foo-ethX\n",
      "ip link show | egrep -o '([-_.[:alnum:]]+-eth[[:digit:]]+)'\n",
      "ip link show\n",
      "*** Killing stale mininet node processes\n",
      "pkill -9 -f mininet:\n",
      "*** Shutting down stale tunnels\n",
      "pkill -9 -f Tunnel=Ethernet\n",
      "pkill -9 -f .ssh/mn\n",
      "rm -f ~/.ssh/mn/*\n",
      "*** Cleanup complete.\n"
     ]
    },
    {
     "name": "stderr",
     "output_type": "stream",
     "text": [
      "*** Ping: testing ping reachability\n",
      "h00 -> h10 h11 h20 \n",
      "h10 -> h00 h11 h20 \n",
      "h11 -> h00 h10 h20 \n",
      "h20 -> h00 h10 h11 \n",
      "*** Results: 0% dropped (12/12 received)\n"
     ]
    },
    {
     "data": {
      "text/plain": [
       "True"
      ]
     },
     "execution_count": 4,
     "metadata": {},
     "output_type": "execute_result"
    }
   ],
   "source": [
    "!sudo mn -c\n",
    "\n",
    "def test_pingall(topology):\n",
    "    #create mininet instance\n",
    "    mininet_obj=Mininet()\n",
    "    #build net\n",
    "    mininet_obj.buildFromTopo(topology)\n",
    "    #initialize the mininet\n",
    "    mininet_obj.start()\n",
    "    #print(\"about to ping all\")\n",
    "    #ping all pairs\n",
    "    mininet_obj.pingAll()\n",
    "    #stop everything\n",
    "    mininet_obj.stop()\n",
    "    return True\n",
    "        \n",
    "test_pingall(create_new_topology([1, 2, 1]))"
   ]
  },
  {
   "cell_type": "markdown",
   "metadata": {},
   "source": [
    "**Note:** Notice the `!sudo mn -c` instruction at the start of the cell. Run that instruction whenever you need to clean up a network from the `Mininet` system. The ``!`` instruction basically instructs Jupyter to issue a command to the system (outside the python interpreter). You can read more about it here: https://ipython.readthedocs.io/en/stable/interactive/magics.html#magic-system. The ``mn -c`` command instructs mininet to clean up all processes associated with any older emulated networks.\n",
    "\n",
    "We now have a way to set up simple networks and run `ping`s on it. Next we'll learn how to generate steady streams of data between hosts on the network.\n",
    "\n",
    "---\n",
    "\n",
    "**[5 points] Step 3:** Generating traffic within the network\n",
    "\n",
    "You will now write a function which generates traffic between a pair of hosts on the network and returns the throughput of the communication between the pairs. The function specification is below:\n",
    "\n",
    "*Name*: `test_iperf`\n",
    "\n",
    "*Input parameters*: `em_net`: A `mininet` object, `traffic_properties`: A dictionary with the following keys -- `source`, `destination`, and `time`.\n",
    "\n",
    "*Returns*: `throughput (MB/s) of s->d connection`, `throughput (MB/s) of d->s connection`\n",
    "\n",
    "*Function logic*: Your function should then generate ``UDP`` traffic between the source and destination hosts provided in the `traffic_properties` dictionary. The traffic should be generated for ``time`` seconds at a rate of 10Mbps. Finally, return the source and destination throughputs for the pair.\n",
    "\n",
    "*Resources*: You can read about the ``Mininet`` class and its member functions here: http://mininet.org/api/classmininet_1_1net_1_1Mininet.html. Pay attention to the `iperf` class."
   ]
  },
  {
   "cell_type": "code",
   "execution_count": 5,
   "metadata": {},
   "outputs": [],
   "source": [
    "def test_iperf(em_net, traffic_properties):\n",
    "    return (em_net.iperf(hosts=(traffic_properties['source'],traffic_properties['destination']),\n",
    "                         l4Type='UDP',\n",
    "                         udpBw='10M',\n",
    "                         seconds=traffic_properties['time'])[1:])"
   ]
  },
  {
   "cell_type": "markdown",
   "metadata": {},
   "source": [
    "Ok, now we're getting to a place where we can start to run some network measurements! Internet measurements are generally quite flaky and can have a lot of variance from one run to the next. This can be for many different reasons that are completely out of our control. Therefore, it is important to repeat experiments many times before making a claim about performance. Doing so and seeing similar results each time means our measurements are potentially statistically valid. This is what we'll do next.\n",
    "\n",
    "---\n",
    "\n",
    "**[10 points] Step 4:** Performing baseline network throughput measurements.\n",
    "\n",
    "Now that you have your ``test_iperf`` method ready, you will write a function that uses it to get some numbers that capture the performance characteristics of a network. The function specifications are below:\n",
    "\n",
    "\n",
    "*Name*: `calculate_avg_throughput`\n",
    "\n",
    "*Input parameters*: `topology`: a ``Topo`` object created using your `create_new_topology` method.\n",
    "\n",
    "*Returns*: `average throughput (MB/s) of h00->hn0 connection after 5 runs of 10 seconds each`, `average throughput (MB/s) of hn0->h00 connection after 5 runs of 15 seconds each`.\n",
    "\n",
    "*Function logic*: Your function first begins emulation of a network with the input `topology`. After the network has started, it will generate traffic between hosts ``h00`` and ``hn0`` (`n` is the last switch in the topology) for 15 seconds. The function will record the observed `h00->hn0` and `hn0->h00` throughputs and repeat the experiment 5 times. It will return the average `h00->hn0` and `hn0->h00` throughputs. Me\n",
    "\n",
    "**Hint:** You might find the ``getNodeByName()`` method from the ``Mininet`` class useful to select the source and destination nodes correctly.\n",
    "\n",
    "A `test_average_throughput` method is written to help you test your work. "
   ]
  },
  {
   "cell_type": "code",
   "execution_count": 6,
   "metadata": {
    "scrolled": true
   },
   "outputs": [
    {
     "name": "stderr",
     "output_type": "stream",
     "text": [
      "*** Iperf: testing UDP bandwidth between h00 and h10 \n",
      "*** Results: ['10M', '10.5 Mbits/sec', '10.5 Mbits/sec']\n",
      "*** Iperf: testing UDP bandwidth between h00 and h10 \n",
      "*** Results: ['10M', '10.4 Mbits/sec', '10.4 Mbits/sec']\n",
      "*** Iperf: testing UDP bandwidth between h00 and h10 \n",
      "*** Results: ['10M', '10.4 Mbits/sec', '10.4 Mbits/sec']\n",
      "*** Iperf: testing UDP bandwidth between h00 and h10 \n",
      "*** Results: ['10M', '10.5 Mbits/sec', '10.5 Mbits/sec']\n",
      "*** Iperf: testing UDP bandwidth between h00 and h10 \n",
      "*** Results: ['10M', '10.5 Mbits/sec', '10.5 Mbits/sec']\n"
     ]
    },
    {
     "name": "stdout",
     "output_type": "stream",
     "text": [
      "Topology:  [2, 1]\n",
      "Average observed server throughput: 10.46| Average observed client throughput: 10.46\n"
     ]
    },
    {
     "name": "stderr",
     "output_type": "stream",
     "text": [
      "*** Iperf: testing UDP bandwidth between h00 and h20 \n",
      "*** Results: ['10M', '10.4 Mbits/sec', '10.4 Mbits/sec']\n",
      "*** Iperf: testing UDP bandwidth between h00 and h20 \n",
      "*** Results: ['10M', '10.4 Mbits/sec', '10.4 Mbits/sec']\n",
      "*** Iperf: testing UDP bandwidth between h00 and h20 \n",
      "*** Results: ['10M', '10.5 Mbits/sec', '10.5 Mbits/sec']\n",
      "*** Iperf: testing UDP bandwidth between h00 and h20 \n",
      "*** Results: ['10M', '10.4 Mbits/sec', '10.4 Mbits/sec']\n",
      "*** Iperf: testing UDP bandwidth between h00 and h20 \n",
      "*** Results: ['10M', '10.5 Mbits/sec', '10.5 Mbits/sec']\n"
     ]
    },
    {
     "name": "stdout",
     "output_type": "stream",
     "text": [
      "Topology:  [2, 1, 3]\n",
      "Average observed server throughput: 10.44| Average observed client throughput: 10.44\n"
     ]
    },
    {
     "name": "stderr",
     "output_type": "stream",
     "text": [
      "*** Iperf: testing UDP bandwidth between h00 and h40 \n",
      "*** Results: ['10M', '10.6 Mbits/sec', '10.6 Mbits/sec']\n",
      "*** Iperf: testing UDP bandwidth between h00 and h40 \n",
      "*** Results: ['10M', '10.5 Mbits/sec', '10.5 Mbits/sec']\n",
      "*** Iperf: testing UDP bandwidth between h00 and h40 \n",
      "*** Results: ['10M', '10.5 Mbits/sec', '10.5 Mbits/sec']\n",
      "*** Iperf: testing UDP bandwidth between h00 and h40 \n",
      "*** Results: ['10M', '10.5 Mbits/sec', '10.5 Mbits/sec']\n",
      "*** Iperf: testing UDP bandwidth between h00 and h40 \n",
      "*** Results: ['10M', '10.5 Mbits/sec', '10.5 Mbits/sec']\n"
     ]
    },
    {
     "name": "stdout",
     "output_type": "stream",
     "text": [
      "Topology:  [1, 1, 1, 1, 1]\n",
      "Average observed server throughput: 10.52| Average observed client throughput: 10.52\n"
     ]
    }
   ],
   "source": [
    "def calculate_average_throughput(topology):\n",
    "    #create a mininet from topology\n",
    "    mininet_obj=Mininet()\n",
    "    mininet_obj.buildFromTopo(topology)\n",
    "    mininet_obj.start()\n",
    "    #print(\"mininet started\")\n",
    "    try:\n",
    "        #pick out the h00 and hn0 hosts\n",
    "        src=mininet_obj.getNodeByName('h00')\n",
    "        dst=mininet_obj.getNodeByName('h%d0'%(len(topology.switches())-1))\n",
    "        #init counts for src_dst and dst_src\n",
    "        src_dst_count=0.0\n",
    "        dst_src_count=0.0\n",
    "        for i in range(0,5):\n",
    "            #print(\"Test number: \"+str(i))\n",
    "            #run a sim\n",
    "            test_values=test_iperf(mininet_obj,{'source':src,'destination':dst,'time':15})\n",
    "            #add times to totals\n",
    "            src_dst_count+=float(test_values[0][:4])\n",
    "            dst_src_count+=float(test_values[1][:4])\n",
    "        #divide running sums by five\n",
    "        src_dst_count=src_dst_count/5.0\n",
    "        dst_src_count=dst_src_count/5.0\n",
    "    finally:\n",
    "        #turn off mininet. placed here for debugging purposes\n",
    "        #print(\"mininet.stop()\")\n",
    "        mininet_obj.stop()\n",
    "    #return what we need\n",
    "    return src_dst_count,dst_src_count \n",
    "\n",
    "def test_average_throughput():\n",
    "    for topology_vector in [[2,1], [2,1,3], [1, 1, 1, 1, 1]]:\n",
    "        topology = create_new_topology(topology_vector)\n",
    "        avg_server_throughput, avg_client_throughput = calculate_average_throughput(topology)\n",
    "        print \"Topology: \", topology_vector\n",
    "        print(\"Average observed server throughput: %s| Average observed client throughput: %s\" % (avg_server_throughput, \n",
    "                                                                                                  avg_client_throughput))\n",
    "test_average_throughput()"
   ]
  },
  {
   "cell_type": "markdown",
   "metadata": {},
   "source": [
    "Notice how the average throughput stayed steady even as the network grew larger. This is because we never modified the default link characteristics (propagation delay, loss, queue size, and transmission rates) of any of the links. With the default values, the throughput always stays fairly high and the network is never bottlenecked.\n",
    "\n",
    "---\n",
    "\n",
    "### VI. Task 2: Understand how link layer characteristics impact network performance [30 points]\n",
    "\n",
    "We're now able to run basic performance measurement experiments on emulated networks with Mininet. In this next task, we'll learn how to modify link layer characteristics and see how this impacts throughput. \n",
    "\n",
    "**[5 points] Step 1:** Modifying link layer network characteristics.\n",
    "\n",
    "The first thing that we'll need to do is learn how to change the link layer characteristics programatically. You will now write a function that is similar to the `create_new_topology` method from earlier, except it will now take link parameters as input and create a network topology which replicates those parameters. The specification is below:\n",
    "\n",
    "*Name*: `create_topology_with_properties`\n",
    "\n",
    "*Input parameters*: - a topology vector: `topology_vector`, a dictionary of link properties: `link_properties`. \n",
    "`link_properties` should have one key for each link in the network. The key should have the two end points of the link they represent and the link option dictionary as its value. For example: `link_properties = {'h00-s0': {'bw': 5, 'loss': 1, 'delay': '5ms', 'max_queue_size': 100}, 'h10-s1': ...}`.\n",
    "\n",
    "*Returns*: The `Topo` object satisfying the input topology and link properties.\n",
    "\n",
    "*Function logic*: The function should then create the topology while making sure that the link characteristics are defined for each of the created links. If no dictionary key exists for a supplied link property, then let the link be set with the following default value for that key. Defaults: `bw=10`, `delay='1ms'`, `loss=1`, `queue_size=10**5`.\n",
    "\n",
    "\n",
    "**Hint:** `topology.addLink( node1, node2, bw=10, max_queue_size=1000, loss=10, delay='5ms')` adds a bidirectional link with bandwidth, delay and loss characteristics, with a maximum queue size of 1000 packets and a packet loss emulator that drops roughly 10% of all packets. The parameter bw is expressed as a number in Mbit; loss is expressed as a percentage (between 0 and 100); and max_queue_size is expressed in packets. \n",
    "\n",
    "A `create_topology_with_properties` method is written to help you test your work. "
   ]
  },
  {
   "cell_type": "code",
   "execution_count": null,
   "metadata": {},
   "outputs": [],
   "source": [
    "!sudo mn -c\n",
    "\n",
    "def create_topology_with_properties(topology_vector, link_properties):\n",
    "    return \n",
    "\n",
    "def test_topology_property_creation():\n",
    "    topologies = []\n",
    "    for topology_vector in [[1, 1, 1], [1, 1, 2, 1], [2, 1, 1, 1, 2]]:\n",
    "        link_properties = {}\n",
    "        for s in range(len(topology_vector)-1):\n",
    "            link_properties['s%d-s%d' % (s, s+1)] = {'bw': 100, 'loss': 1}\n",
    "        for s in range(len(topology_vector)):\n",
    "            for h in range(0, topology_vector[s]):\n",
    "                link_properties['h%d%d-s%d' % (s, h, s)] = {'bw': 30, 'loss': 1}\n",
    "        print(\"Topology vector: %s\" % ''.join(str(topology_vector)))\n",
    "        topology = create_topology_with_properties(topology_vector, link_properties)\n",
    "        print(\"Hosts created: %s\" % ''.join(str(topology.hosts(sort=True))))\n",
    "        print(\"Switches created: %s\" % ''.join(str(topology.switches(sort=True))))\n",
    "        print(\"Switch to switch link characteristics: \")\n",
    "        s2s_links = {}\n",
    "        for i in range(len(topology_vector)-1):\n",
    "            key = 's%d,s%d' % (i, i+1)\n",
    "            s2s_links[key] = topology.linkInfo('s%d' % i, 's%d' % (i+1))\n",
    "            print key, s2s_links[key]\n",
    "        print(\"Host to switch link characteristics: \")\n",
    "        h2s_links = {}\n",
    "        for i in range(len(topology_vector)):\n",
    "            for j in range(topology_vector[i]):\n",
    "                key = 'h%d%d,s%d' % (i, j, i)\n",
    "                h2s_links[key] = topology.linkInfo('h%d%d' % (i, j), 's%d' % (i))\n",
    "                print key, h2s_links[key]\n",
    "        print(\"---------------\")\n",
    "        topologies.append(topology)\n",
    "    return topologies\n",
    "\n",
    "topologies = test_topology_property_creation()"
   ]
  },
  {
   "cell_type": "markdown",
   "metadata": {},
   "source": [
    "Now that we're able to construct and emulate networks with different link layer characteristics we can start writing code to run performance measurements on them. \n",
    "\n",
    "---\n",
    "\n",
    "**[5 points] Step 2:** Computing average throughput for the network with non-default link parameters. \n",
    "\n",
    "We have to write a function with the following specifications:\n",
    "*Name*: `calculate_avg_throughput_with_link_chars`\n",
    "\n",
    "*Input parameters*: `topology`: a ``Topo`` object created using your `create_topology_with_properties` method.\n",
    "\n",
    "*Returns*: `average throughput (MB/s) of h00->hn0 connection after 5 runs of 10 seconds each`, `average throughput (MB/s) of hn0->h00 connection after 5 runs of 15 seconds each`.\n",
    "\n",
    "*Function logic*: The logic of this function is identical to the ``calculate_avg_throughput`` function you wrote earlier. The main thing that you need to know is: To use non-default link parameters in Mininet you need to use *Traffic controlled link* ``TCLink`` type links and ``OVSKernelSwitch``es.\n",
    "\n",
    "You can find an example usage of these types of links and switches here: https://github.com/mininet/mininet/blob/master/examples/linearbandwidth.py"
   ]
  },
  {
   "cell_type": "code",
   "execution_count": null,
   "metadata": {},
   "outputs": [],
   "source": [
    "def calculate_average_throughput_with_link_chars(topology):\n",
    "    return\n",
    "    \n",
    "def test_average_throughput_with_link_chars():\n",
    "    topology = create_topology_with_properties([1,1], {'s0-s1': {'bw': 1, 'loss': 2}, 'h10-s1': {'bw': 1, 'loss': 2},\n",
    "                                                        'h00-s0': {'bw': 1, 'loss': 2}})\n",
    "    print calculate_average_throughput_with_link_chars(topology)\n",
    "    \n",
    "test_average_throughput_with_link_chars()"
   ]
  },
  {
   "cell_type": "markdown",
   "metadata": {},
   "source": [
    "---\n",
    "\n",
    "**[20 points] Step 3:** You will now write functions that plot the relationships between average server throughputs and link characteristics. You should gather average throughput data for the following scenarios on a network topology defined by the ``topology_vector``: `[1, 1, 1, 1, 1]`. \n",
    "\n",
    "**Note:** These will take a long time to run after the code is written. It might be a good idea to let them run overnight.\n",
    "\n",
    "You may use the following ``plot_throughput`` function for your plots."
   ]
  },
  {
   "cell_type": "code",
   "execution_count": null,
   "metadata": {},
   "outputs": [],
   "source": [
    "%matplotlib inline\n",
    "%matplotlib nbagg\n",
    "\n",
    "import matplotlib\n",
    "import numpy as np\n",
    "import matplotlib.pyplot as plt\n",
    "\n",
    "def plot_throughput(x, y, x_label, y_label):\n",
    "    plt.figure()\n",
    "    plt.title(x_label + ' vs. ' + y_label + \"\\nRemember: the sending rate of the client is capped at 1Mb/s (1.25 MB/s) by default\")\n",
    "    plt.xlabel(x_label)\n",
    "    plt.ylabel(y_label)\n",
    "    plt.plot(x, y)\n",
    "    plt.show()"
   ]
  },
  {
   "cell_type": "markdown",
   "metadata": {},
   "source": [
    "**a.** Impact of reducing transmission rate of the link on server throughput. Fill in the following function so it gets the average server throughput for the following scenarios.\n",
    "\n",
    "- all links have the following characteristics: bw is 1 MBps, delay is 1us, loss is 1%, and queue size is 10^5.\n",
    "- all links have the following characteristics: bw is .67 MBps, delay is 1us, loss is 1%, and queue size is 10^5.\n",
    "- all links have the following characteristics: bw is .33 MBps, delay is 1us, loss is 1%, and queue size is 10^5.\n",
    "\n",
    "Plot the relationship between transmission rate and server throughput. There is a ``plot_throughput`` function that you may use to do this. Make sure to understand what this relationship looks like."
   ]
  },
  {
   "cell_type": "code",
   "execution_count": null,
   "metadata": {},
   "outputs": [],
   "source": [
    "def analyze_transmission_rate_impact(topology_vector):\n",
    "    return\n",
    "\n",
    "analyze_transmission_rate_impact([1, 1, 1, 1, 1])"
   ]
  },
  {
   "cell_type": "markdown",
   "metadata": {},
   "source": [
    "**b.** Increasing propagation delay of the link.\n",
    "- all links have the following characteristics: bw is 1 MBps, delay is 10us, loss is 1%, and queue size is 10^5.\n",
    "- all links have the following characteristics: bw is 1 MBps, delay is 100us, loss is 1%, and queue size is 10^5.\n",
    "- all links have the following characteristics: bw is 1 MBps, delay is 1000us, loss is 1%, and queue size is 10^5.\n",
    "\n",
    "Plot the relationship between propagation delay and server throughput. There is a ``plot_throughput`` function that you may use to do this. Make sure to understand what this relationship looks like."
   ]
  },
  {
   "cell_type": "code",
   "execution_count": null,
   "metadata": {},
   "outputs": [],
   "source": [
    "def analyze_delay_impact(topology_vector):\n",
    "    return\n",
    "\n",
    "analyze_delay_impact([1, 1, 1, 1, 1])"
   ]
  },
  {
   "cell_type": "markdown",
   "metadata": {},
   "source": [
    "**c.** Increasing the lossiness of a link.\n",
    "- all links have the following characteristics: bw is 1 MBps, delay is 1us, loss is 1%, and queue size is 10^5.\n",
    "- all links have the following characteristics: bw is 1 MBps, delay is 1us, loss is 5%, and queue size is 10^5.\n",
    "- all links have the following characteristics: bw is 1 MBps, delay is 1us, loss is 10%, and queue size is 10^5.\n",
    "\n",
    "Plot the relationship between loss rate and server throughput. There is a ``plot_throughput`` function that you may use to do this. Make sure to understand what this relationship looks like."
   ]
  },
  {
   "cell_type": "code",
   "execution_count": null,
   "metadata": {},
   "outputs": [],
   "source": [
    "!sudo mn -c\n",
    "\n",
    "def analyze_loss_rate_impact(topology_vector):\n",
    "    return\n",
    "\n",
    "analyze_loss_rate_impact([1, 1, 1, 1, 1])"
   ]
  },
  {
   "cell_type": "markdown",
   "metadata": {},
   "source": [
    "**d.** Decreasing the queue_size of a link.\n",
    "- all links have the following characteristics: bw is 5 MBps, delay is 1us, loss is 1%, and queue size is 1.\n",
    "- all links have the following characteristics: bw is 5 MBps, delay is 1us, loss is 1%, and queue size is 10.\n",
    "- all links have the following characteristics: bw is 5 MBps, delay is 1us, loss is 1%, and queue size is 100.\n",
    "\n",
    "Plot the relationship between queue_size and server throughput. There is a ``plot_throughput`` function that you may use to do this. Make sure to understand what this relationship looks like."
   ]
  },
  {
   "cell_type": "code",
   "execution_count": null,
   "metadata": {},
   "outputs": [],
   "source": [
    "def analyze_queue_size_impact(topology_vector):\n",
    "    return    \n",
    "\n",
    "analyze_queue_size_impact([1, 1, 1, 1, 1])"
   ]
  },
  {
   "cell_type": "markdown",
   "metadata": {
    "scrolled": true
   },
   "source": [
    "Now you know how to use mininet to create a network, set its link characteristics, and run performance measurements on it. You should also have learned the impact of different link characteristics on the network. This is quite impressive already!\n",
    "\n",
    "---\n",
    "\n",
    "\n",
    "\n",
    "### VI. Task 3: Link layer routing and addressing [20 points]\n",
    "\n",
    "In this task, we're going to move away from characteristics of the link and focus on addressing and routing at the link layer. By the end of this task, you know how to run entire programs (including code that you write yourself) inside hosts, switches, and any other node in an emulated network! This means you can test the impact of network settings on a webserver or appserver that you might run someday, craft and send packets to see how routers might react to them inside the emulated network (this process is used to find bugs and security vulnerabilities in network hardware without impacting real infrastructure), etc.\n",
    "\n",
    "The first thing we're going to do is clear out our network states and import functions that are required to complete the next few exercises. You may add additional imports here."
   ]
  },
  {
   "cell_type": "code",
   "execution_count": null,
   "metadata": {},
   "outputs": [],
   "source": [
    "!sudo mn -c\n",
    "\n",
    "from mininet.topo import Topo\n",
    "from mininet.net import Mininet\n",
    "from mininet.node import OVSKernelSwitch, Switch, Controller, UserSwitch\n",
    "from mininet.link import TCLink\n",
    "from mininet.log import setLogLevel\n",
    "from mininet.util import pmonitor\n",
    "\n",
    "from scapy.all import Ether, ARP, srp1, rdpcap\n",
    "\n",
    "from signal import SIGINT\n",
    "\n",
    "import random\n",
    "import time\n",
    "import os\n",
    "\n",
    "#setLogLevel('debug')"
   ]
  },
  {
   "cell_type": "markdown",
   "metadata": {},
   "source": [
    "\n",
    "**[10 points] Step 1:** We'll start this task by writing a function which will run commands on nodes in an emulated network. The function specifications are below:\n",
    "\n",
    "*Name*: `run_cmd_on_hosts`\n",
    "\n",
    "*Input parameters*: ``em_net``: a ``mininet`` network object, ``host_list``: a list of hosts in the ``mininet`` object, ``instructions``: a list of command line instructions (e.g., [\"python 'program_name'.py\", \"ifconfig\", \"ping 'ip_address'\"]), `to_background`: a boolean parameter used to indicate if the passed instructions are to be run as background processes -- i.e., we return without waiting for them to complete. `to_background` should be set to `False` by default.\n",
    "\n",
    "*Returns*: The function should return a dictionary structured as: ``output = {'hostname': {'instruction': '/path/to/output/file'}}``\n",
    "\n",
    "*Function logic*: The function needs to then run all the instructions specified in ``instructions`` on all the hosts specified in ``host_list`` and record their outputs in a ``/tmp/<hostname>-<instruction>.out`` file (please replace all whitespaces and special characters in the instruction with `_`). \n",
    "\n",
    "*Resources*: You will find the following link helpful: https://github.com/mininet/mininet/wiki/Introduction-to-Mininet#running for sending commands to a node. You will find the following link helpful: https://stackoverflow.com/questions/160924/how-can-i-kill-a-process-by-name-instead-of-pid for killing processes by name if you find too many of them leftover.\n",
    "\n",
    "*Note*: Keep in mind that mininet has a shared filesystem -- i.e., the same file structure is shared by all nodes emulated in the network -- so you will need to save the output to a file that is unique to each host.\n",
    "\n",
    "You may test your version of ``run_cmd_on_hosts`` by running the provided `test_run_cmd_on_hosts` function."
   ]
  },
  {
   "cell_type": "code",
   "execution_count": null,
   "metadata": {},
   "outputs": [],
   "source": [
    "!sudo mn -c\n",
    "\n",
    "def run_cmd_on_hosts(em_net, host_list, instructions, to_background=False):\n",
    "    return \n",
    "\n",
    "def return_file_contents(filename):\n",
    "    with open(filename) as fp:\n",
    "        return fp.read()\n",
    "\n",
    "def test_run_cmd_on_hosts():\n",
    "    topology = create_new_topology([2, 1, 2])\n",
    "    em_net = Mininet(topo=topology)\n",
    "    em_net.start()\n",
    "    host_list = em_net.hosts[0:-1]\n",
    "    ping_instruction = \"ping -c 1 \" + str(em_net.hosts[-1].IP())\n",
    "    instructions = [\"ifconfig\", ping_instruction]\n",
    "    try:\n",
    "        results = run_cmd_on_hosts(em_net, host_list, instructions)\n",
    "    except Exception as ex:\n",
    "        print(\"Exception %s while testing\" % ex)\n",
    "        em_net.stop()\n",
    "    em_net.stop()\n",
    "    time.sleep(1)\n",
    "    for host in host_list:\n",
    "        for instruction in instructions:                \n",
    "            print(\"Host: %s | Program: %s. Output:\\n%s\" % (host.name, instruction, return_file_contents(results[host.name][instruction])))\n",
    "\n",
    "test_run_cmd_on_hosts()"
   ]
  },
  {
   "cell_type": "markdown",
   "metadata": {},
   "source": [
    "Now, you'll use the ``run_cmd_on_hosts`` method that you just completed to manage the ARP table on each host. You may borrow code from the above testing function whenever you feel the need to.\n",
    "\n",
    "---\n",
    "\n",
    "**[3 points] Step 2:** Using Scapy, you will now write a function which will craft and send an ARP packet and gather the responses recieved from it. \n",
    "\n",
    "*Name*: `transmit_arp_request`\n",
    "\n",
    "*Input parameters*: `dst_ip`: the IP address of the host which will be receiving this packet.\n",
    "\n",
    "*Returns*: `dst_mac`: a string type MAC address of the host responding to the ARP request.\n",
    "\n",
    "*Function logic*: The packet you are sending should be an ARP packet. The function should record the source MAC address in the response packet and add this to the ARP table of the host that this code is running on.  \n",
    "\n",
    "\n",
    "*Resources*: You can read about adding an entry to the ARP table here: https://forum.ivorde.com/how-to-add-persistent-static-arp-entries-in-linux-t19121.html.\n",
    "\n",
    "*Hints*\n",
    "You probably want to use the `srp` or `srp1` command to send and receive packets -- these commands allow you to send packets that only have link layer headers.\n",
    "\n",
    "Remember the ARP request (the packet you are crafting) needs to be broadcasted on all interfaces. This is achieved by setting the destination MAC address to `ff:ff:ff:ff:ff:ff`.\n",
    "\n",
    "**Note (Important)** Do not delete any of my code in the following cell! This will not work if you do. My code is basically saving anything you write into a ``transmit-arp-request.py`` file so it can be run as a standalone program and flushing the stdout and file buffers so popen gets all the output generated.\n",
    "\n",
    "You can test your `test_transmit_between_hosts` method in the cell below. If everything is working alright, you should see an output that looks like this:\n",
    "\n",
    "```\n",
    "Host: h00 | Program: sudo python -u transmit-udp-packet.py -sip 10.0.0.1 -dip 10.0.0.4 -smac 8a:6a:7a:71:80:c3 -dmac 1e:53:b9:39:19:c3 -data \"Test\". Output:\n",
    "Namespace(data='\"Test\"', destination_ip='10.0.0.4', destination_mac='1e:53:b9:39:19:c3', source_ip='10.0.0.1', source_mac='8a:6a:7a:71:80:c3')\n",
    ".\n",
    "Sent 1 packets.\n",
    "Packet was successfully sent!\n",
    "```"
   ]
  },
  {
   "cell_type": "code",
   "execution_count": null,
   "metadata": {},
   "outputs": [],
   "source": [
    "%%writefile transmit-arp-request.py\n",
    "import argparse\n",
    "import logging\n",
    "import sys\n",
    "\n",
    "def parse_arguments():\n",
    "    parser = argparse.ArgumentParser()\n",
    "    parser.add_argument(\"-dip\", \"--destination_ip\", help=\"IP address of the destination host of the packet to be sent\", required=True)\n",
    "    args = parser.parse_args()\n",
    "    print args\n",
    "    return args\n",
    "###\n",
    "# DO NOT DELETE ANYTHING ABOVE THIS LINE!\n",
    "###\n",
    "\n",
    "###\n",
    "# Add all your imports for this specific function here.\n",
    "###\n",
    "from scapy.all import Ether, ARP, srp1\n",
    "import os\n",
    "\n",
    "def transmit_arp(dst_ip):\n",
    "    return\n",
    "\n",
    "###\n",
    "# DO NOT DELETE ANYTHING BELOW THIS LINE!\n",
    "###\n",
    "args = parse_arguments()\n",
    "filename = \"/tmp/arp-\" + args.destination_ip\n",
    "\n",
    "output = transmit_arp(args.destination_ip)\n",
    "\n",
    "with open(filename, \"w\") as fp:\n",
    "    fp.write(output)\n",
    "    fp.flush()\n",
    "print output\n",
    "\n",
    "sys.stdout.flush()\n",
    "sys.exit()"
   ]
  },
  {
   "cell_type": "code",
   "execution_count": null,
   "metadata": {},
   "outputs": [],
   "source": [
    "!sudo mn -c\n",
    "setLogLevel('output')\n",
    "def test_transmit_between_hosts():\n",
    "    topology = create_new_topology([2, 2])\n",
    "    em_net = Mininet(topo=topology)\n",
    "    em_net.start()\n",
    "    src_host, dst_host = em_net.hosts[0], em_net.hosts[-1]\n",
    "    data = \"Test\"\n",
    "    instruction = \"sudo python -u transmit-arp-request.py -dip %s\" % dst_host.IP()\n",
    "    instructions = [instruction]\n",
    "    try:\n",
    "        results = run_cmd_on_hosts(em_net, [src_host], instructions)\n",
    "    except Exception as ex:\n",
    "        print(\"Exception %s while testing\" % ex)\n",
    "        em_net.stop()\n",
    "    em_net.stop()\n",
    "    for host in [src_host]:\n",
    "        for instruction in instructions:\n",
    "            print(\"Host: %s | Program: %s. Output:\\n%s\" % (host.name, instruction, return_file_contents(results[host.name][instruction])))\n",
    "\n",
    "test_transmit_between_hosts()"
   ]
  },
  {
   "cell_type": "markdown",
   "metadata": {},
   "source": [
    "> This cell is where your answer to Step 4 will go."
   ]
  },
  {
   "cell_type": "markdown",
   "metadata": {},
   "source": [
    "---\n",
    "**[5 points] Step 5:** Showing me that you understand the differences between hubs and switches. \n",
    "\n",
    "Here are two output snippets:\n",
    "\n",
    "*snippet A*\n",
    "```\n",
    "h10 sudo tshark -a duration:8 arp\n",
    "    1 0.000000000 2a:ed:41:12:eb:fd → Broadcast    ARP 56 Who has 10.0.0.4? Tell 10.0.0.1\n",
    "    2 0.000153585 8e:97:6c:4e:5f:b7 → 2a:ed:41:12:eb:fd ARP 42 10.0.0.4 is at 8e:97:6c:4e:5f:b7\n",
    "\n",
    "h11 sudo tshark -a duration:8 arp\n",
    "    1 0.000000000 2a:ed:41:12:eb:fd → Broadcast    ARP 56 Who has 10.0.0.4? Tell 10.0.0.1\n",
    "    2 0.000156023 8e:97:6c:4e:5f:b7 → 2a:ed:41:12:eb:fd ARP 42 10.0.0.4 is at 8e:97:6c:4e:5f:b7\n",
    "\n",
    "h00 sudo tshark -a duration:8 arp\n",
    "    1 0.000000000 2a:ed:41:12:eb:fd → Broadcast    ARP 56 Who has 10.0.0.4? Tell 10.0.0.1\n",
    "    2 0.000417378 8e:97:6c:4e:5f:b7 → 2a:ed:41:12:eb:fd ARP 42 10.0.0.4 is at 8e:97:6c:4e:5f:b7\n",
    "\n",
    "h20 sudo tshark -a duration:8 arp\n",
    "    1 0.000000000 2a:ed:41:12:eb:fd → Broadcast    ARP 56 Who has 10.0.0.4? Tell 10.0.0.1\n",
    "    2 0.000013853 8e:97:6c:4e:5f:b7 → 2a:ed:41:12:eb:fd ARP 42 10.0.0.4 is at 8e:97:6c:4e:5f:b7\n",
    "```\n",
    "\n",
    "*snippet B*\n",
    "\n",
    "```\n",
    "h10 sudo tshark -a duration:8 -f arp\n",
    "    1 0.000000000 d6:6e:6c:bc:b0:ef → Broadcast    ARP 56 Who has 10.0.0.4? Tell 10.0.0.1\n",
    "\n",
    "h11 sudo tshark -a duration:8 -f arp\n",
    "    1 0.000000000 d6:6e:6c:bc:b0:ef → Broadcast    ARP 56 Who has 10.0.0.4? Tell 10.0.0.1\n",
    "\n",
    "h00 sudo tshark -a duration:8 -f arp\n",
    "    1 0.000000000 d6:6e:6c:bc:b0:ef → Broadcast    ARP 56 Who has 10.0.0.4? Tell 10.0.0.1\n",
    "    2 0.082946897 de:32:b2:1f:6e:55 → d6:6e:6c:bc:b0:ef ARP 42 10.0.0.4 is at de:32:b2:1f:6e:55\n",
    "\n",
    "h20 sudo tshark -a duration:8 -f arp\n",
    "    1 0.000000000 d6:6e:6c:bc:b0:ef → Broadcast    ARP 56 Who has 10.0.0.4? Tell 10.0.0.1\n",
    "    2 0.000017022 de:32:b2:1f:6e:55 → d6:6e:6c:bc:b0:ef ARP 42 10.0.0.4 is at de:32:b2:1f:6e:55\n",
    "```\n",
    "\n",
    "Both snippets were obtained from a [1, 2, 1] network topology running idential code. Which snippet was generated from a switch-based network? Which snippet was generated from a hub-based network? What is going on in these packet traces?"
   ]
  },
  {
   "cell_type": "markdown",
   "metadata": {},
   "source": [
    "> This cell is where your answer to step 5 will go.\n",
    "\n",
    "---\n"
   ]
  },
  {
   "cell_type": "markdown",
   "metadata": {},
   "source": [
    "### VII. Task 4: Theoretical understanding of queueing delays [10 points]\n",
    "\n",
    "**[5 points] Problem 1.** We wish to send a message of size 150,000 bytes over the network. There are four hops, each of length 20km and running at 100 Mb/s. However, before sending we split the message into 1500 byte packets. What is the end-to-end delay of the message? Use speed of light in copper = c = 2 * 10^8 m/s, and round your answer to the nearest integer millisecond. What it we don't break the data down into 1500 byte packets?"
   ]
  },
  {
   "cell_type": "markdown",
   "metadata": {},
   "source": [
    "> This cell is where your answer to problem 1 will go.\n",
    "\n",
    "---\n"
   ]
  },
  {
   "cell_type": "markdown",
   "metadata": {},
   "source": [
    "**[5 points] Problem 2.** Every second, a 100 bit packet arrives to a queue at rate 1000b/s. The maximum departure\trate is\t500b/s.\tWhat is the\tmaximum and average\toccupancy of the queue? What is the average delay experienced by a bit in the queue? What is the maximum delay? What happens if the bit arrive at the same rate, but all at once?"
   ]
  },
  {
   "cell_type": "markdown",
   "metadata": {},
   "source": [
    "> This cell is where your answer to problem 2 will go.\n",
    "\n",
    "---\n"
   ]
  },
  {
   "cell_type": "markdown",
   "metadata": {},
   "source": [
    "### VIII. Task 5: Credit reel! [10 points]\n",
    "\n",
    "You get 10 points just for submitting this assignment with a well written and formatted credit reel! Use the following cell to:\n",
    "- tell us what references you used to complete this assignment -- e.g., online documentation, stackoverflow posts, etc.\n",
    "- who helped you IRL or on Piazza.\n",
    "- which team-mates did which parts of the assignment.\n"
   ]
  },
  {
   "cell_type": "markdown",
   "metadata": {},
   "source": [
    "## Task 1 Resources\n",
    "- https://gist.github.com/John-Lin/961156c1c6dcac545b41 (example Topo object creation)"
   ]
  }
 ],
 "metadata": {
  "kernelspec": {
   "display_name": "Python 2",
   "language": "python",
   "name": "python2"
  },
  "language_info": {
   "codemirror_mode": {
    "name": "ipython",
    "version": 2
   },
   "file_extension": ".py",
   "mimetype": "text/x-python",
   "name": "python",
   "nbconvert_exporter": "python",
   "pygments_lexer": "ipython2",
   "version": "2.7.15+"
  }
 },
 "nbformat": 4,
 "nbformat_minor": 2
}
